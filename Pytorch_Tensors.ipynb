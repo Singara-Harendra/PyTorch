{
  "nbformat": 4,
  "nbformat_minor": 0,
  "metadata": {
    "colab": {
      "provenance": [],
      "gpuType": "T4",
      "authorship_tag": "ABX9TyPlUWanaugzZpSvrOm74zUD",
      "include_colab_link": true
    },
    "kernelspec": {
      "name": "python3",
      "display_name": "Python 3"
    },
    "language_info": {
      "name": "python"
    },
    "accelerator": "GPU"
  },
  "cells": [
    {
      "cell_type": "markdown",
      "metadata": {
        "id": "view-in-github",
        "colab_type": "text"
      },
      "source": [
        "<a href=\"https://colab.research.google.com/github/Singara-Harendra/PyTorch/blob/main/Pytorch_Tensors.ipynb\" target=\"_parent\"><img src=\"https://colab.research.google.com/assets/colab-badge.svg\" alt=\"Open In Colab\"/></a>"
      ]
    },
    {
      "cell_type": "code",
      "source": [
        "import torch\n",
        "print(torch.__version__)"
      ],
      "metadata": {
        "colab": {
          "base_uri": "https://localhost:8080/"
        },
        "id": "ACpd0qfF61qL",
        "outputId": "45ed9e93-af3c-4d3b-b2ab-c1e2a70146e3"
      },
      "execution_count": null,
      "outputs": [
        {
          "output_type": "stream",
          "name": "stdout",
          "text": [
            "2.6.0+cu124\n"
          ]
        }
      ]
    },
    {
      "cell_type": "code",
      "source": [
        "if torch.cuda.is_available():\n",
        "  print(\"CUDA is avvailable\")\n",
        "  print(f\"Using Gpu:{torch.cuda.get_device_name(0)}\")\n",
        "else:\n",
        "  print(\"GPU is not available\")"
      ],
      "metadata": {
        "colab": {
          "base_uri": "https://localhost:8080/"
        },
        "id": "CNd2dfV_7kdq",
        "outputId": "8e33186b-4465-4608-c36f-7238d0eee3e4"
      },
      "execution_count": null,
      "outputs": [
        {
          "output_type": "stream",
          "name": "stdout",
          "text": [
            "GPU is not available\n"
          ]
        }
      ]
    },
    {
      "cell_type": "markdown",
      "source": [
        "we can change to GPU using runtime->cahnge runtime type->GPP->save"
      ],
      "metadata": {
        "id": "kBrsr2xR8Snw"
      }
    },
    {
      "cell_type": "markdown",
      "source": [
        "#Creating Tensors"
      ],
      "metadata": {
        "id": "hrkninH99DuZ"
      }
    },
    {
      "cell_type": "code",
      "source": [
        "#empty,dont initialise values and previous stored values at that location and the dimesions should be given as paras\n",
        "a=torch.empty(2,3)"
      ],
      "metadata": {
        "id": "yPNIwbQ88cgA"
      },
      "execution_count": null,
      "outputs": []
    },
    {
      "cell_type": "code",
      "source": [
        "type(a)"
      ],
      "metadata": {
        "colab": {
          "base_uri": "https://localhost:8080/"
        },
        "id": "ZBURiZDN9cAL",
        "outputId": "543909ad-bd96-40ab-c809-c4308b03b0a3"
      },
      "execution_count": null,
      "outputs": [
        {
          "output_type": "execute_result",
          "data": {
            "text/plain": [
              "torch.Tensor"
            ]
          },
          "metadata": {},
          "execution_count": 11
        }
      ]
    },
    {
      "cell_type": "code",
      "source": [
        "#zeros,intialise all elements to zeroes\n",
        "\n",
        "torch.zeros(2,2)"
      ],
      "metadata": {
        "colab": {
          "base_uri": "https://localhost:8080/"
        },
        "id": "elPQWKWB9isN",
        "outputId": "6a4b6959-31de-408e-b6cc-f5195de8c3e9"
      },
      "execution_count": null,
      "outputs": [
        {
          "output_type": "execute_result",
          "data": {
            "text/plain": [
              "tensor([[0., 0.],\n",
              "        [0., 0.]])"
            ]
          },
          "metadata": {},
          "execution_count": 14
        }
      ]
    },
    {
      "cell_type": "code",
      "source": [
        "#ones\n",
        "\n",
        "torch.ones(3,3)"
      ],
      "metadata": {
        "colab": {
          "base_uri": "https://localhost:8080/"
        },
        "id": "0JNMF1fx9qbL",
        "outputId": "af30e70f-ec7b-495e-9e09-024dd85ea420"
      },
      "execution_count": null,
      "outputs": [
        {
          "output_type": "execute_result",
          "data": {
            "text/plain": [
              "tensor([[1., 1., 1.],\n",
              "        [1., 1., 1.],\n",
              "        [1., 1., 1.]])"
            ]
          },
          "metadata": {},
          "execution_count": 16
        }
      ]
    },
    {
      "cell_type": "code",
      "source": [
        "#rand,to initialise random numbers between 0 and 1\n",
        "\n",
        "torch.rand(3,2)"
      ],
      "metadata": {
        "colab": {
          "base_uri": "https://localhost:8080/"
        },
        "id": "sVzuDoWC-JiH",
        "outputId": "b8dd86ae-b6ac-43bf-f1ab-e9f1ec7ea3c3"
      },
      "execution_count": null,
      "outputs": [
        {
          "output_type": "execute_result",
          "data": {
            "text/plain": [
              "tensor([[0.3401, 0.9559],\n",
              "        [0.1844, 0.0394],\n",
              "        [0.3514, 0.2499]])"
            ]
          },
          "metadata": {},
          "execution_count": 17
        }
      ]
    },
    {
      "cell_type": "code",
      "source": [
        "torch.rand(3,2)"
      ],
      "metadata": {
        "colab": {
          "base_uri": "https://localhost:8080/"
        },
        "id": "Sw9G_5Fp_aWw",
        "outputId": "c55282c2-85b4-48dc-8055-d4458cd6191a"
      },
      "execution_count": null,
      "outputs": [
        {
          "output_type": "execute_result",
          "data": {
            "text/plain": [
              "tensor([[0.9593, 0.3904],\n",
              "        [0.6009, 0.2566],\n",
              "        [0.7936, 0.9408]])"
            ]
          },
          "metadata": {},
          "execution_count": 21
        }
      ]
    },
    {
      "cell_type": "code",
      "source": [
        "#when we use rand multiple times,diff numbers will be initialised and it will be a problem\n",
        "#so, we got \"manual_seed(value)\"\n",
        "#when we use manual_seed(value) with the same value then same rand numbers will be initialised everytime\n",
        "# same seed will give you same random numbers\n",
        "\n",
        "torch.manual_seed(42)\n",
        "torch.rand(3,2)"
      ],
      "metadata": {
        "colab": {
          "base_uri": "https://localhost:8080/"
        },
        "id": "w5chw81W-aMJ",
        "outputId": "4212955f-569d-4e00-a14f-95621397995c"
      },
      "execution_count": null,
      "outputs": [
        {
          "output_type": "execute_result",
          "data": {
            "text/plain": [
              "tensor([[0.8823, 0.9150],\n",
              "        [0.3829, 0.9593],\n",
              "        [0.3904, 0.6009]])"
            ]
          },
          "metadata": {},
          "execution_count": 19
        }
      ]
    },
    {
      "cell_type": "code",
      "source": [
        "torch.manual_seed(42)\n",
        "torch.rand(3,1)"
      ],
      "metadata": {
        "colab": {
          "base_uri": "https://localhost:8080/"
        },
        "id": "h-3A6a3D_NYD",
        "outputId": "e7db42c6-49a7-4189-d483-0010c7419579"
      },
      "execution_count": null,
      "outputs": [
        {
          "output_type": "execute_result",
          "data": {
            "text/plain": [
              "tensor([[0.8823],\n",
              "        [0.9150],\n",
              "        [0.3829]])"
            ]
          },
          "metadata": {},
          "execution_count": 20
        }
      ]
    },
    {
      "cell_type": "code",
      "source": [
        "#using tensor\n",
        "#we can use list,tuple etc\n",
        "\n",
        "torch.tensor([[1,2,3],[4,5,6]])"
      ],
      "metadata": {
        "colab": {
          "base_uri": "https://localhost:8080/"
        },
        "id": "eBLuHMKk_kG2",
        "outputId": "10be8346-df9d-4872-e5a7-e45d2d8b85a3"
      },
      "execution_count": null,
      "outputs": [
        {
          "output_type": "execute_result",
          "data": {
            "text/plain": [
              "tensor([[1, 2, 3],\n",
              "        [4, 5, 6]])"
            ]
          },
          "metadata": {},
          "execution_count": 23
        }
      ]
    },
    {
      "cell_type": "code",
      "source": [
        "#another ways\n",
        "print(\"using arange->\",torch.arange(0,10,2)) #(min,max,step)\n",
        "\n",
        "print(\"using linspace->\",torch.linspace(0,10,10)) #linspace=linearly spaced (min,max,count)\n",
        "\n",
        "print(\"using eye->\",torch.eye(5))  #eye=identity matrix(dimension)\n",
        "\n",
        "print(\"using full->\",torch.full((3,3),5))  #(m,n) and every ele=5\n"
      ],
      "metadata": {
        "colab": {
          "base_uri": "https://localhost:8080/"
        },
        "id": "ZkdN0c-A_0Oh",
        "outputId": "b161d3f3-51e9-42cc-81ee-f2d2f6b84251"
      },
      "execution_count": null,
      "outputs": [
        {
          "output_type": "stream",
          "name": "stdout",
          "text": [
            "using arange-> tensor([0, 2, 4, 6, 8])\n",
            "using linspace-> tensor([ 0.0000,  1.1111,  2.2222,  3.3333,  4.4444,  5.5556,  6.6667,  7.7778,\n",
            "         8.8889, 10.0000])\n",
            "using eye-> tensor([[1., 0., 0., 0., 0.],\n",
            "        [0., 1., 0., 0., 0.],\n",
            "        [0., 0., 1., 0., 0.],\n",
            "        [0., 0., 0., 1., 0.],\n",
            "        [0., 0., 0., 0., 1.]])\n",
            "using full-> tensor([[5, 5, 5],\n",
            "        [5, 5, 5],\n",
            "        [5, 5, 5]])\n"
          ]
        }
      ]
    },
    {
      "cell_type": "markdown",
      "source": [
        "**Tensor Shape**"
      ],
      "metadata": {
        "id": "m-YTQejtBjQ5"
      }
    },
    {
      "cell_type": "code",
      "source": [
        "a=torch.tensor([[12,2],[-10,9]])\n",
        "a.shape"
      ],
      "metadata": {
        "colab": {
          "base_uri": "https://localhost:8080/"
        },
        "id": "3ZSkO1HKAGwd",
        "outputId": "66a1db9e-7b4a-427f-ac28-2e79a9e48810"
      },
      "execution_count": null,
      "outputs": [
        {
          "output_type": "execute_result",
          "data": {
            "text/plain": [
              "torch.Size([2, 2])"
            ]
          },
          "metadata": {},
          "execution_count": 26
        }
      ]
    },
    {
      "cell_type": "code",
      "source": [
        "torch.empty_like(a) #creates tensor shape like a and datatype too"
      ],
      "metadata": {
        "colab": {
          "base_uri": "https://localhost:8080/"
        },
        "id": "KSV8e6QFBwTD",
        "outputId": "8342c299-4072-4412-8eec-376ec2183fb8"
      },
      "execution_count": null,
      "outputs": [
        {
          "output_type": "execute_result",
          "data": {
            "text/plain": [
              "tensor([[138277819264368,       239239408],\n",
              "        [           1877,     68719477842]])"
            ]
          },
          "metadata": {},
          "execution_count": 27
        }
      ]
    },
    {
      "cell_type": "code",
      "source": [
        "print(torch.zeros_like(a))\n",
        "print(torch.ones_like(a))\n"
      ],
      "metadata": {
        "colab": {
          "base_uri": "https://localhost:8080/"
        },
        "id": "MKPCdU5CCTbp",
        "outputId": "a0a9728c-9180-4f46-eacc-2168eb56d5b0"
      },
      "execution_count": null,
      "outputs": [
        {
          "output_type": "stream",
          "name": "stdout",
          "text": [
            "tensor([[0, 0],\n",
            "        [0, 0]])\n",
            "tensor([[1, 1],\n",
            "        [1, 1]])\n"
          ]
        }
      ]
    },
    {
      "cell_type": "code",
      "source": [
        "torch.rand_like(a, dtype=torch.float32)"
      ],
      "metadata": {
        "colab": {
          "base_uri": "https://localhost:8080/"
        },
        "id": "eCqqhWmGCigK",
        "outputId": "2e24846d-e079-4a0b-eb79-cf2219f2bc91"
      },
      "execution_count": null,
      "outputs": [
        {
          "output_type": "execute_result",
          "data": {
            "text/plain": [
              "tensor([[0.1332, 0.9346],\n",
              "        [0.5936, 0.8694]])"
            ]
          },
          "metadata": {},
          "execution_count": 35
        }
      ]
    },
    {
      "cell_type": "markdown",
      "source": [
        "Error because rand will generate floats between 0 and 1,but a is of int datatype and explicitly mentioning dtype will solve erroe and takes only its shape not its dtype"
      ],
      "metadata": {
        "id": "TjA7CI02CvS7"
      }
    },
    {
      "cell_type": "markdown",
      "source": [
        "**Tensor Data Types**"
      ],
      "metadata": {
        "id": "E3zEVk6MC8_Z"
      }
    },
    {
      "cell_type": "code",
      "source": [
        "#find datatype\n",
        "\n",
        "a.dtype"
      ],
      "metadata": {
        "colab": {
          "base_uri": "https://localhost:8080/"
        },
        "id": "r4Gudzo2CtEZ",
        "outputId": "32bb38a3-6278-4f9f-d4c0-548a7631e151"
      },
      "execution_count": null,
      "outputs": [
        {
          "output_type": "execute_result",
          "data": {
            "text/plain": [
              "torch.int64"
            ]
          },
          "metadata": {},
          "execution_count": 32
        }
      ]
    },
    {
      "cell_type": "code",
      "source": [
        "#assign datatype\n",
        "\n",
        "torch.tensor([1.3,4.0,4.6,3] , dtype=torch.int32)  #it will take floor"
      ],
      "metadata": {
        "colab": {
          "base_uri": "https://localhost:8080/"
        },
        "id": "xF0Q-WU9Deu5",
        "outputId": "05444f07-b58f-43a2-b090-9f49b6f388d1"
      },
      "execution_count": null,
      "outputs": [
        {
          "output_type": "execute_result",
          "data": {
            "text/plain": [
              "tensor([1, 4, 4, 3], dtype=torch.int32)"
            ]
          },
          "metadata": {},
          "execution_count": 33
        }
      ]
    },
    {
      "cell_type": "code",
      "source": [
        "#using to()\n",
        "\n",
        "a.to(torch.float32) #a is int and changeed to float"
      ],
      "metadata": {
        "colab": {
          "base_uri": "https://localhost:8080/"
        },
        "id": "BHaiXuHlDyOK",
        "outputId": "dc8fd3cb-258d-4ceb-92ce-9a13c9af5353"
      },
      "execution_count": null,
      "outputs": [
        {
          "output_type": "execute_result",
          "data": {
            "text/plain": [
              "tensor([[ 12.,   2.],\n",
              "        [-10.,   9.]])"
            ]
          },
          "metadata": {},
          "execution_count": 34
        }
      ]
    },
    {
      "cell_type": "markdown",
      "source": [
        "**Operations on Tensors**"
      ],
      "metadata": {
        "id": "gmZsOywXMNQr"
      }
    },
    {
      "cell_type": "markdown",
      "source": [
        "**1.Scalar Operations**"
      ],
      "metadata": {
        "id": "gvsuvDUYkYdX"
      }
    },
    {
      "cell_type": "code",
      "source": [
        "a=torch.tensor([1,2,3,5,0])\n",
        "#addition\n",
        "\n",
        "print(a+3)\n",
        "\n",
        "#substraction\n",
        "\n",
        "print(a-2)\n",
        "\n",
        "#multiplication\n",
        "\n",
        "print(a*2)\n",
        "\n",
        "#division\n",
        "\n",
        "print(a/2)\n",
        "\n",
        "#integer division\n",
        "\n",
        "print(a//2)\n",
        "\n",
        "#mod\n",
        "\n",
        "print(a%2)\n",
        "\n",
        "#power\n",
        "\n",
        "print(a**2)\n",
        "\n"
      ],
      "metadata": {
        "id": "7YVVYmbaEG5s",
        "colab": {
          "base_uri": "https://localhost:8080/"
        },
        "outputId": "0c214c7b-7439-4a94-8892-bf496a5cb787"
      },
      "execution_count": null,
      "outputs": [
        {
          "output_type": "stream",
          "name": "stdout",
          "text": [
            "tensor([4, 5, 6, 8, 3])\n",
            "tensor([-1,  0,  1,  3, -2])\n",
            "tensor([ 2,  4,  6, 10,  0])\n",
            "tensor([0.5000, 1.0000, 1.5000, 2.5000, 0.0000])\n",
            "tensor([0, 1, 1, 2, 0])\n",
            "tensor([1, 0, 1, 1, 0])\n",
            "tensor([ 1,  4,  9, 25,  0])\n"
          ]
        }
      ]
    },
    {
      "cell_type": "markdown",
      "source": [
        "**2.Element wise operations**\n",
        " (Shape should be exactly same)"
      ],
      "metadata": {
        "id": "ZFSCkIMpN71Y"
      }
    },
    {
      "cell_type": "code",
      "source": [
        "a=torch.rand(2,3)\n",
        "b=torch.rand(2,3)\n",
        "print(a)\n",
        "b"
      ],
      "metadata": {
        "colab": {
          "base_uri": "https://localhost:8080/"
        },
        "id": "tUJgeOQdMls8",
        "outputId": "c6248014-9df6-474f-ed19-b1e10bad95b6"
      },
      "execution_count": null,
      "outputs": [
        {
          "output_type": "stream",
          "name": "stdout",
          "text": [
            "tensor([[0.9207, 0.5442, 0.7458],\n",
            "        [0.4173, 0.2053, 0.0348]])\n"
          ]
        },
        {
          "output_type": "execute_result",
          "data": {
            "text/plain": [
              "tensor([[0.3250, 0.4861, 0.1387],\n",
              "        [0.0919, 0.0779, 0.2415]])"
            ]
          },
          "metadata": {},
          "execution_count": 13
        }
      ]
    },
    {
      "cell_type": "code",
      "source": [
        "#add\n",
        "\n",
        "a+b\n",
        "\n",
        "#substraction\n",
        "\n",
        "a-b\n",
        "#multiplication\n",
        "a*b\n",
        "#division\n",
        "a/b\n",
        "#integer division\n",
        "a//b\n",
        "#power\n",
        "a**b\n",
        "#mod\n",
        "a%b"
      ],
      "metadata": {
        "colab": {
          "base_uri": "https://localhost:8080/"
        },
        "id": "H9ahz3htOcFF",
        "outputId": "fde498ed-a35e-4259-96d6-b1e0965f16c2"
      },
      "execution_count": null,
      "outputs": [
        {
          "output_type": "execute_result",
          "data": {
            "text/plain": [
              "tensor([[0.2708, 0.0581, 0.0525],\n",
              "        [0.0499, 0.0494, 0.0348]])"
            ]
          },
          "metadata": {},
          "execution_count": 22
        }
      ]
    },
    {
      "cell_type": "code",
      "source": [
        "c=torch.tensor((1,-2,3,44))\n",
        "id(c)"
      ],
      "metadata": {
        "id": "fbfVkeBVPZPv",
        "colab": {
          "base_uri": "https://localhost:8080/"
        },
        "outputId": "b29027c9-ec65-412d-bed8-f3c8cdd95d03"
      },
      "execution_count": null,
      "outputs": [
        {
          "output_type": "execute_result",
          "data": {
            "text/plain": [
              "135184689093648"
            ]
          },
          "metadata": {},
          "execution_count": 13
        }
      ]
    },
    {
      "cell_type": "code",
      "source": [
        "#abs\n",
        "torch.abs(c)\n",
        "\n",
        "#neg\n",
        "torch.neg(c)"
      ],
      "metadata": {
        "colab": {
          "base_uri": "https://localhost:8080/"
        },
        "id": "zv_pE5e1k1S9",
        "outputId": "97e04a87-31f0-4d68-dbdb-138cd27b41b9"
      },
      "execution_count": null,
      "outputs": [
        {
          "output_type": "execute_result",
          "data": {
            "text/plain": [
              "tensor([ -1,   2,  -3, -44])"
            ]
          },
          "metadata": {},
          "execution_count": 15
        }
      ]
    },
    {
      "cell_type": "code",
      "source": [
        "d=torch.tensor([1.2,3.4,44,56,64.32,6.9])\n",
        "#round\n",
        "torch.round(d)\n",
        "\n",
        "#ceil\n",
        "torch.ceil(d)\n",
        "\n",
        "#floor\n",
        "torch.floor(d)\n",
        "\n",
        "#clamp\n",
        "torch.clamp(d,min=0,max=40)  #makes sure that every element lie in range or clampimg\n",
        "\n"
      ],
      "metadata": {
        "colab": {
          "base_uri": "https://localhost:8080/"
        },
        "id": "P04YZ088k-CY",
        "outputId": "be0e4a35-11ec-490c-f15e-9281e4d0b4f7"
      },
      "execution_count": null,
      "outputs": [
        {
          "output_type": "execute_result",
          "data": {
            "text/plain": [
              "tensor([ 1.2000,  3.4000, 40.0000, 40.0000, 40.0000,  6.9000])"
            ]
          },
          "metadata": {},
          "execution_count": 19
        }
      ]
    },
    {
      "cell_type": "markdown",
      "source": [
        "**3.Reduction Operation**"
      ],
      "metadata": {
        "id": "pYC3GgJrmKnl"
      }
    },
    {
      "cell_type": "code",
      "source": [
        "e=torch.tensor([[12,2,3,4],[2,3,5,6]],dtype=torch.float32)\n",
        "e"
      ],
      "metadata": {
        "colab": {
          "base_uri": "https://localhost:8080/"
        },
        "id": "YGAJFK_nljAx",
        "outputId": "713d3096-37e0-465b-ece7-ea7e7fe723ff"
      },
      "execution_count": null,
      "outputs": [
        {
          "output_type": "execute_result",
          "data": {
            "text/plain": [
              "tensor([[12.,  2.,  3.,  4.],\n",
              "        [ 2.,  3.,  5.,  6.]])"
            ]
          },
          "metadata": {},
          "execution_count": 46
        }
      ]
    },
    {
      "cell_type": "code",
      "source": [
        "#sum\n",
        "torch.sum(e)"
      ],
      "metadata": {
        "colab": {
          "base_uri": "https://localhost:8080/"
        },
        "id": "MDqhafXzmkp6",
        "outputId": "8c6143af-6a88-44c4-ccde-8a0c5fa33851"
      },
      "execution_count": null,
      "outputs": [
        {
          "output_type": "execute_result",
          "data": {
            "text/plain": [
              "tensor(26)"
            ]
          },
          "metadata": {},
          "execution_count": 23
        }
      ]
    },
    {
      "cell_type": "code",
      "source": [
        "#sum along column elements\n",
        "torch.sum(e,dim=0)"
      ],
      "metadata": {
        "colab": {
          "base_uri": "https://localhost:8080/"
        },
        "id": "ekfLPBy7mqF0",
        "outputId": "d1025c35-58ba-41ae-babf-baaf80bc9a27"
      },
      "execution_count": null,
      "outputs": [
        {
          "output_type": "execute_result",
          "data": {
            "text/plain": [
              "tensor([ 3,  5,  8, 10])"
            ]
          },
          "metadata": {},
          "execution_count": 24
        }
      ]
    },
    {
      "cell_type": "code",
      "source": [
        "#sum along row elements\n",
        "torch.sum(e,dim=1)"
      ],
      "metadata": {
        "colab": {
          "base_uri": "https://localhost:8080/"
        },
        "id": "vXxZ_4vJmwQu",
        "outputId": "d116bb8f-bfc6-45ac-8585-5e75c53ed669"
      },
      "execution_count": null,
      "outputs": [
        {
          "output_type": "execute_result",
          "data": {
            "text/plain": [
              "tensor([10, 16])"
            ]
          },
          "metadata": {},
          "execution_count": 25
        }
      ]
    },
    {
      "cell_type": "code",
      "source": [
        "#mean\n",
        "torch.mean(e)   #dtype should be float\n",
        "\n",
        "#mean along columns                                   ##DIM=0 for col and DIM=1 for rows\n",
        "torch.mean(e,dim=0)\n",
        "\n",
        "#mean along rows\n",
        "torch.mean(e,dim=1)"
      ],
      "metadata": {
        "colab": {
          "base_uri": "https://localhost:8080/"
        },
        "id": "wbS0IuiTm2D3",
        "outputId": "966c7fc4-3f92-423e-d1e5-e547045275fc"
      },
      "execution_count": null,
      "outputs": [
        {
          "output_type": "execute_result",
          "data": {
            "text/plain": [
              "tensor([2.5000, 4.0000])"
            ]
          },
          "metadata": {},
          "execution_count": 31
        }
      ]
    },
    {
      "cell_type": "code",
      "source": [
        "#median\n",
        "torch.median(e)\n",
        "\n",
        "##median canot be done on col or row wise"
      ],
      "metadata": {
        "colab": {
          "base_uri": "https://localhost:8080/"
        },
        "id": "fmc8iVCdm_u_",
        "outputId": "47cf67ca-e280-461f-f4c3-a687cf779d98"
      },
      "execution_count": null,
      "outputs": [
        {
          "output_type": "execute_result",
          "data": {
            "text/plain": [
              "torch.return_types.median(\n",
              "values=tensor([1., 2., 3., 4.]),\n",
              "indices=tensor([0, 0, 0, 0]))"
            ]
          },
          "metadata": {},
          "execution_count": 33
        }
      ]
    },
    {
      "cell_type": "code",
      "source": [
        "#max,min\n",
        "print(e)\n",
        "torch.max(e)\n",
        "torch.min(e)"
      ],
      "metadata": {
        "colab": {
          "base_uri": "https://localhost:8080/"
        },
        "id": "IA1U3KDMnqaQ",
        "outputId": "d5525e6b-c867-4780-bfd0-a42bb3586f20"
      },
      "execution_count": null,
      "outputs": [
        {
          "output_type": "stream",
          "name": "stdout",
          "text": [
            "tensor([[1., 2., 3., 4.],\n",
            "        [2., 3., 5., 6.]])\n"
          ]
        },
        {
          "output_type": "execute_result",
          "data": {
            "text/plain": [
              "tensor(1.)"
            ]
          },
          "metadata": {},
          "execution_count": 38
        }
      ]
    },
    {
      "cell_type": "code",
      "source": [
        "#prod\n",
        "torch.prod(e)"
      ],
      "metadata": {
        "colab": {
          "base_uri": "https://localhost:8080/"
        },
        "id": "oVPZ46CzoFnm",
        "outputId": "774a70da-0447-4076-b482-c91beffe6963"
      },
      "execution_count": null,
      "outputs": [
        {
          "output_type": "execute_result",
          "data": {
            "text/plain": [
              "tensor(4320.)"
            ]
          },
          "metadata": {},
          "execution_count": 39
        }
      ]
    },
    {
      "cell_type": "code",
      "source": [
        "e=torch.tensor([[12,33,4],[12,222,3]],dtype=torch.float32)\n",
        "\n",
        "#std\n",
        "torch.std(e)\n",
        "\n",
        "#var\n",
        "torch.var(e)\n",
        "\n",
        "#argmax\n",
        "torch.argmax(e)\n",
        "\n",
        "#argmin\n",
        "torch.argmin(e)  #it treats elements as 0,1,2,3... instead of [i][j]"
      ],
      "metadata": {
        "colab": {
          "base_uri": "https://localhost:8080/"
        },
        "id": "jFNhtST4oXsm",
        "outputId": "eaf81d08-ddf7-4627-8022-0441211df803"
      },
      "execution_count": null,
      "outputs": [
        {
          "output_type": "execute_result",
          "data": {
            "text/plain": [
              "tensor(5)"
            ]
          },
          "metadata": {},
          "execution_count": 52
        }
      ]
    },
    {
      "cell_type": "markdown",
      "source": [
        "**4.Matrix Operations**"
      ],
      "metadata": {
        "id": "1eHRRhOxpzqB"
      }
    },
    {
      "cell_type": "code",
      "source": [
        "f=torch.randint(size=(2,3),low=0,high=10)\n",
        "g=torch.randint(size=(3,2),low=0,high=10)\n",
        "print(f)\n",
        "g"
      ],
      "metadata": {
        "colab": {
          "base_uri": "https://localhost:8080/"
        },
        "id": "W0RRru0woexb",
        "outputId": "b1a406ea-1106-45e1-9143-536ee0dda01d"
      },
      "execution_count": null,
      "outputs": [
        {
          "output_type": "stream",
          "name": "stdout",
          "text": [
            "tensor([[0, 7, 9],\n",
            "        [5, 6, 8]])\n"
          ]
        },
        {
          "output_type": "execute_result",
          "data": {
            "text/plain": [
              "tensor([[2, 2],\n",
              "        [7, 8],\n",
              "        [4, 0]])"
            ]
          },
          "metadata": {},
          "execution_count": 59
        }
      ]
    },
    {
      "cell_type": "code",
      "source": [
        "#matmul\n",
        "torch.matmul(f,g)"
      ],
      "metadata": {
        "colab": {
          "base_uri": "https://localhost:8080/"
        },
        "id": "lih7A922qGMN",
        "outputId": "64454e43-017d-4982-93f4-a97cfc636745"
      },
      "execution_count": null,
      "outputs": [
        {
          "output_type": "execute_result",
          "data": {
            "text/plain": [
              "tensor([[85, 56],\n",
              "        [84, 58]])"
            ]
          },
          "metadata": {},
          "execution_count": 60
        }
      ]
    },
    {
      "cell_type": "code",
      "source": [
        "#dot product\n",
        "vector1=torch.tensor([1,2,3])      # everything is a function in keras,if two things needed means give two parameters like that\n",
        "vector2=torch.tensor([3,4,5])\n",
        "torch.dot(vector1,vector2)"
      ],
      "metadata": {
        "colab": {
          "base_uri": "https://localhost:8080/"
        },
        "id": "GWX9JzXcqJm3",
        "outputId": "cb7c1ac0-eb0d-4aae-cb65-4acc29ba6264"
      },
      "execution_count": null,
      "outputs": [
        {
          "output_type": "execute_result",
          "data": {
            "text/plain": [
              "tensor(26)"
            ]
          },
          "metadata": {},
          "execution_count": 61
        }
      ]
    },
    {
      "cell_type": "code",
      "source": [
        "#transpose\n",
        "torch.transpose(f,0,1)"
      ],
      "metadata": {
        "colab": {
          "base_uri": "https://localhost:8080/"
        },
        "id": "O1WUchPJ6huI",
        "outputId": "6252fa19-37f0-48f0-81b5-b2cbd761e9ca"
      },
      "execution_count": null,
      "outputs": [
        {
          "output_type": "execute_result",
          "data": {
            "text/plain": [
              "tensor([[0, 5],\n",
              "        [7, 6],\n",
              "        [9, 8]])"
            ]
          },
          "metadata": {},
          "execution_count": 62
        }
      ]
    },
    {
      "cell_type": "code",
      "source": [
        "h=torch.randint(size=(3,3),low=1,high=20,dtype=torch.float32)\n",
        "h"
      ],
      "metadata": {
        "colab": {
          "base_uri": "https://localhost:8080/"
        },
        "id": "F0GP4rEf7Elt",
        "outputId": "6d184ea2-f144-461b-e287-d2a577c4b3a7"
      },
      "execution_count": null,
      "outputs": [
        {
          "output_type": "execute_result",
          "data": {
            "text/plain": [
              "tensor([[19., 11.,  7.],\n",
              "        [ 8., 18., 16.],\n",
              "        [19., 15., 11.]])"
            ]
          },
          "metadata": {},
          "execution_count": 66
        }
      ]
    },
    {
      "cell_type": "code",
      "source": [
        "#det\n",
        "torch.det(h)"
      ],
      "metadata": {
        "colab": {
          "base_uri": "https://localhost:8080/"
        },
        "id": "rsiR3VpT7WN4",
        "outputId": "d7f14435-7e76-4769-ea0e-b7f28dbbb82d"
      },
      "execution_count": null,
      "outputs": [
        {
          "output_type": "execute_result",
          "data": {
            "text/plain": [
              "tensor(24.0001)"
            ]
          },
          "metadata": {},
          "execution_count": 67
        }
      ]
    },
    {
      "cell_type": "code",
      "source": [
        "#inverse\n",
        "torch.inverse(h)"
      ],
      "metadata": {
        "colab": {
          "base_uri": "https://localhost:8080/"
        },
        "id": "6RZp2K187bx3",
        "outputId": "6aa1b30b-0b69-4af1-cb7b-62171f294c0a"
      },
      "execution_count": null,
      "outputs": [
        {
          "output_type": "execute_result",
          "data": {
            "text/plain": [
              "tensor([[ -1.7500,  -0.6667,   2.0833],\n",
              "        [  9.0000,   3.1667, -10.3333],\n",
              "        [ -9.2500,  -3.1667,  10.5833]])"
            ]
          },
          "metadata": {},
          "execution_count": 68
        }
      ]
    },
    {
      "cell_type": "markdown",
      "source": [
        "**5.Comparision Operators**"
      ],
      "metadata": {
        "id": "0KY3WaDH7ty_"
      }
    },
    {
      "cell_type": "code",
      "source": [
        "i=torch.randint(size=(2,3),low=0,high=10)\n",
        "j=torch.randint(size=(2,3),low=0,high=10)\n",
        "print(i)\n",
        "j"
      ],
      "metadata": {
        "colab": {
          "base_uri": "https://localhost:8080/"
        },
        "id": "MiLJ5pnK7lel",
        "outputId": "f1cb675c-e17c-47ec-a3fb-b5db45bfc972"
      },
      "execution_count": null,
      "outputs": [
        {
          "output_type": "stream",
          "name": "stdout",
          "text": [
            "tensor([[3, 9, 0],\n",
            "        [6, 4, 8]])\n"
          ]
        },
        {
          "output_type": "execute_result",
          "data": {
            "text/plain": [
              "tensor([[8, 8, 2],\n",
              "        [5, 4, 7]])"
            ]
          },
          "metadata": {},
          "execution_count": 69
        }
      ]
    },
    {
      "cell_type": "code",
      "source": [
        "print(i>j)"
      ],
      "metadata": {
        "colab": {
          "base_uri": "https://localhost:8080/"
        },
        "id": "48IyhDlO7-y2",
        "outputId": "f67cf9f5-d42b-41a0-fe82-295467414ef3"
      },
      "execution_count": null,
      "outputs": [
        {
          "output_type": "stream",
          "name": "stdout",
          "text": [
            "tensor([[False,  True, False],\n",
            "        [ True, False,  True]])\n"
          ]
        }
      ]
    },
    {
      "cell_type": "code",
      "source": [
        "print(i<=j)"
      ],
      "metadata": {
        "colab": {
          "base_uri": "https://localhost:8080/"
        },
        "id": "f4dauiLp8FLy",
        "outputId": "b3666bf2-6fad-4303-ccae-04129a8ac737"
      },
      "execution_count": null,
      "outputs": [
        {
          "output_type": "stream",
          "name": "stdout",
          "text": [
            "tensor([[ True, False,  True],\n",
            "        [False,  True, False]])\n"
          ]
        }
      ]
    },
    {
      "cell_type": "code",
      "source": [
        "print(i==j)"
      ],
      "metadata": {
        "colab": {
          "base_uri": "https://localhost:8080/"
        },
        "id": "DVYjZ6W-8HRA",
        "outputId": "8be8ffa1-8055-4cc2-81fd-bd678a661d61"
      },
      "execution_count": null,
      "outputs": [
        {
          "output_type": "stream",
          "name": "stdout",
          "text": [
            "tensor([[False, False, False],\n",
            "        [False,  True, False]])\n"
          ]
        }
      ]
    },
    {
      "cell_type": "code",
      "source": [
        "print(i!=j)"
      ],
      "metadata": {
        "colab": {
          "base_uri": "https://localhost:8080/"
        },
        "id": "b7vTsluJ8MSX",
        "outputId": "4f20048e-b7f4-41d5-df57-74fbce3f2127"
      },
      "execution_count": null,
      "outputs": [
        {
          "output_type": "stream",
          "name": "stdout",
          "text": [
            "tensor([[ True,  True,  True],\n",
            "        [ True, False,  True]])\n"
          ]
        }
      ]
    },
    {
      "cell_type": "markdown",
      "source": [
        "**6.Special Functions**"
      ],
      "metadata": {
        "id": "Ja52Va0q8Vxk"
      }
    },
    {
      "cell_type": "code",
      "source": [
        "k=torch.randint(size=(2,3),low=0,high=10,dtype=torch.float32)\n",
        "k"
      ],
      "metadata": {
        "colab": {
          "base_uri": "https://localhost:8080/"
        },
        "id": "X_XWmckh8Rc-",
        "outputId": "145af23c-1e24-4368-dc52-6013872ab012"
      },
      "execution_count": null,
      "outputs": [
        {
          "output_type": "execute_result",
          "data": {
            "text/plain": [
              "tensor([[2., 9., 7.],\n",
              "        [6., 2., 2.]])"
            ]
          },
          "metadata": {},
          "execution_count": 84
        }
      ]
    },
    {
      "cell_type": "code",
      "source": [
        "#log\n",
        "torch.log(k)"
      ],
      "metadata": {
        "colab": {
          "base_uri": "https://localhost:8080/"
        },
        "id": "Ivb79gtI8odw",
        "outputId": "ece1c62a-0d96-4bc5-ff88-4b42ef28e292"
      },
      "execution_count": null,
      "outputs": [
        {
          "output_type": "execute_result",
          "data": {
            "text/plain": [
              "tensor([[1.7918,   -inf, 1.0986],\n",
              "        [0.6931, 2.0794, 0.6931]])"
            ]
          },
          "metadata": {},
          "execution_count": 77
        }
      ]
    },
    {
      "cell_type": "code",
      "source": [
        "#exp\n",
        "torch.exp(k)"
      ],
      "metadata": {
        "colab": {
          "base_uri": "https://localhost:8080/"
        },
        "id": "qm0W1do68t7u",
        "outputId": "96330b00-4b85-493b-c188-90b0a0eac12f"
      },
      "execution_count": null,
      "outputs": [
        {
          "output_type": "execute_result",
          "data": {
            "text/plain": [
              "tensor([[4.0343e+02, 1.0000e+00, 2.0086e+01],\n",
              "        [7.3891e+00, 2.9810e+03, 7.3891e+00]])"
            ]
          },
          "metadata": {},
          "execution_count": 78
        }
      ]
    },
    {
      "cell_type": "code",
      "source": [
        "#sqrt\n",
        "torch.sqrt(k)"
      ],
      "metadata": {
        "colab": {
          "base_uri": "https://localhost:8080/"
        },
        "id": "rPSuwh278xiP",
        "outputId": "e53de0f1-366b-4c61-c860-2fd2948e65dc"
      },
      "execution_count": null,
      "outputs": [
        {
          "output_type": "execute_result",
          "data": {
            "text/plain": [
              "tensor([[2.4495, 0.0000, 1.7321],\n",
              "        [1.4142, 2.8284, 1.4142]])"
            ]
          },
          "metadata": {},
          "execution_count": 79
        }
      ]
    },
    {
      "cell_type": "code",
      "source": [
        "#sigmoid\n",
        "torch.sigmoid(k)"
      ],
      "metadata": {
        "colab": {
          "base_uri": "https://localhost:8080/"
        },
        "id": "0-Rxb9cD84ow",
        "outputId": "92ff9b3a-99c4-49e4-95d0-6ddaa8f592c3"
      },
      "execution_count": null,
      "outputs": [
        {
          "output_type": "execute_result",
          "data": {
            "text/plain": [
              "tensor([[0.9975, 0.5000, 0.9526],\n",
              "        [0.8808, 0.9997, 0.8808]])"
            ]
          },
          "metadata": {},
          "execution_count": 80
        }
      ]
    },
    {
      "cell_type": "code",
      "source": [
        "#sigmoid\n",
        "torch.softmax(k,dim=0)"
      ],
      "metadata": {
        "colab": {
          "base_uri": "https://localhost:8080/"
        },
        "id": "5vkBrbXK9Bko",
        "outputId": "217ba1db-d784-4824-a25e-1de6f4b0d7cd"
      },
      "execution_count": null,
      "outputs": [
        {
          "output_type": "execute_result",
          "data": {
            "text/plain": [
              "tensor([[1.7986e-02, 9.9909e-01, 9.9331e-01],\n",
              "        [9.8201e-01, 9.1105e-04, 6.6929e-03]])"
            ]
          },
          "metadata": {},
          "execution_count": 85
        }
      ]
    },
    {
      "cell_type": "code",
      "source": [
        "#sigmoid\n",
        "torch.softmax(k,dim=1)"
      ],
      "metadata": {
        "colab": {
          "base_uri": "https://localhost:8080/"
        },
        "id": "xn7X9__L9HGf",
        "outputId": "55fa7c65-9437-4ee5-e8bb-3024dab814c5"
      },
      "execution_count": null,
      "outputs": [
        {
          "output_type": "execute_result",
          "data": {
            "text/plain": [
              "tensor([[8.0254e-04, 8.8009e-01, 1.1911e-01],\n",
              "        [9.6466e-01, 1.7668e-02, 1.7668e-02]])"
            ]
          },
          "metadata": {},
          "execution_count": 86
        }
      ]
    },
    {
      "cell_type": "code",
      "source": [
        "#relu\n",
        "torch.relu(k)"
      ],
      "metadata": {
        "colab": {
          "base_uri": "https://localhost:8080/"
        },
        "id": "yp-1mQBK9XVb",
        "outputId": "7778aeb4-4a8d-47fe-b9d5-3a8efd0c3a3e"
      },
      "execution_count": null,
      "outputs": [
        {
          "output_type": "execute_result",
          "data": {
            "text/plain": [
              "tensor([[2., 9., 7.],\n",
              "        [6., 2., 2.]])"
            ]
          },
          "metadata": {},
          "execution_count": 87
        }
      ]
    },
    {
      "cell_type": "markdown",
      "source": [
        "**Inplace Operations**"
      ],
      "metadata": {
        "id": "gmnb_ELi-NDv"
      }
    },
    {
      "cell_type": "code",
      "source": [
        "m=torch.randint(size=(2,3),low=0,high=10,dtype=torch.float32)\n",
        "n=torch.randint(size=(2,3),low=0,high=10,dtype=torch.float32)\n",
        "print(m)\n",
        "n"
      ],
      "metadata": {
        "colab": {
          "base_uri": "https://localhost:8080/"
        },
        "id": "HO_B1lqm-MKH",
        "outputId": "eb6130c4-3e79-4cf2-c608-1adeed968423"
      },
      "execution_count": null,
      "outputs": [
        {
          "output_type": "stream",
          "name": "stdout",
          "text": [
            "tensor([[0., 6., 1.],\n",
            "        [3., 7., 4.]])\n"
          ]
        },
        {
          "output_type": "execute_result",
          "data": {
            "text/plain": [
              "tensor([[3., 9., 1.],\n",
              "        [2., 4., 8.]])"
            ]
          },
          "metadata": {},
          "execution_count": 89
        }
      ]
    },
    {
      "cell_type": "code",
      "source": [
        "#m+n will create an another tensor\n",
        "## but m.add_(n) will be inplace,means it will modify m tensor\n",
        "m.add_(n)"
      ],
      "metadata": {
        "colab": {
          "base_uri": "https://localhost:8080/"
        },
        "id": "gEN6g8yD9vRD",
        "outputId": "4ba6b8ee-6063-4c1d-827e-47d16da7795d"
      },
      "execution_count": null,
      "outputs": [
        {
          "output_type": "execute_result",
          "data": {
            "text/plain": [
              "tensor([[ 3., 15.,  2.],\n",
              "        [ 5., 11., 12.]])"
            ]
          },
          "metadata": {},
          "execution_count": 90
        }
      ]
    },
    {
      "cell_type": "code",
      "source": [
        "m"
      ],
      "metadata": {
        "colab": {
          "base_uri": "https://localhost:8080/"
        },
        "id": "IOAzg704_E2E",
        "outputId": "d20ef31e-83e3-4253-faa9-52a5461a5c9c"
      },
      "execution_count": null,
      "outputs": [
        {
          "output_type": "execute_result",
          "data": {
            "text/plain": [
              "tensor([[ 3., 15.,  2.],\n",
              "        [ 5., 11., 12.]])"
            ]
          },
          "metadata": {},
          "execution_count": 91
        }
      ]
    },
    {
      "cell_type": "code",
      "source": [
        "#torch.relu(m) #will create another tensor but we can make it inplace\n",
        "m.exp_()"
      ],
      "metadata": {
        "colab": {
          "base_uri": "https://localhost:8080/"
        },
        "id": "PEMXWWjs_HIe",
        "outputId": "8c64f9d7-e8da-45ef-9c0d-ff06ae638d5a"
      },
      "execution_count": null,
      "outputs": [
        {
          "output_type": "execute_result",
          "data": {
            "text/plain": [
              "tensor([[2.0086e+01, 3.2690e+06, 7.3891e+00],\n",
              "        [1.4841e+02, 5.9874e+04, 1.6275e+05]])"
            ]
          },
          "metadata": {},
          "execution_count": 95
        }
      ]
    },
    {
      "cell_type": "code",
      "source": [
        "m      #m itself updated"
      ],
      "metadata": {
        "colab": {
          "base_uri": "https://localhost:8080/"
        },
        "id": "YPD6C6kj_e_7",
        "outputId": "a30d7397-4052-48dc-c1a9-57ecdd349135"
      },
      "execution_count": null,
      "outputs": [
        {
          "output_type": "execute_result",
          "data": {
            "text/plain": [
              "tensor([[2.0086e+01, 3.2690e+06, 7.3891e+00],\n",
              "        [1.4841e+02, 5.9874e+04, 1.6275e+05]])"
            ]
          },
          "metadata": {},
          "execution_count": 96
        }
      ]
    },
    {
      "cell_type": "markdown",
      "source": [
        "**Copying a tensor**"
      ],
      "metadata": {
        "id": "NWN9Ebhu_xdw"
      }
    },
    {
      "cell_type": "code",
      "source": [
        "# same as of python list if a=b the a and b will points to same address\n",
        "\n",
        "a=torch.rand(2,3,dtype=torch.float32)\n",
        "b=a\n",
        "a"
      ],
      "metadata": {
        "colab": {
          "base_uri": "https://localhost:8080/"
        },
        "id": "sN0Dc_bq_gtp",
        "outputId": "5e6fcb8a-8d4f-40b0-a797-ce8e0f9d52d4"
      },
      "execution_count": null,
      "outputs": [
        {
          "output_type": "execute_result",
          "data": {
            "text/plain": [
              "tensor([[0.7453, 0.1651, 0.5386],\n",
              "        [0.2702, 0.8798, 0.6988]])"
            ]
          },
          "metadata": {},
          "execution_count": 98
        }
      ]
    },
    {
      "cell_type": "code",
      "source": [
        "b"
      ],
      "metadata": {
        "colab": {
          "base_uri": "https://localhost:8080/"
        },
        "id": "WYYNP3hvAHSV",
        "outputId": "0740f76b-1614-4b8b-8e18-57b75f3e1fa9"
      },
      "execution_count": null,
      "outputs": [
        {
          "output_type": "execute_result",
          "data": {
            "text/plain": [
              "tensor([[0.7453, 0.1651, 0.5386],\n",
              "        [0.2702, 0.8798, 0.6988]])"
            ]
          },
          "metadata": {},
          "execution_count": 99
        }
      ]
    },
    {
      "cell_type": "code",
      "source": [
        "a[0][0]=1\n",
        "a"
      ],
      "metadata": {
        "colab": {
          "base_uri": "https://localhost:8080/"
        },
        "id": "zWFsYs82AHvm",
        "outputId": "d97060f9-567b-4b2e-be98-7a0021bae862"
      },
      "execution_count": null,
      "outputs": [
        {
          "output_type": "execute_result",
          "data": {
            "text/plain": [
              "tensor([[1.0000, 0.1651, 0.5386],\n",
              "        [0.2702, 0.8798, 0.6988]])"
            ]
          },
          "metadata": {},
          "execution_count": 101
        }
      ]
    },
    {
      "cell_type": "code",
      "source": [
        "b   #here b is also pointing to the same address as of a so modifying a will change b also"
      ],
      "metadata": {
        "colab": {
          "base_uri": "https://localhost:8080/"
        },
        "id": "egdXvYm1ALlW",
        "outputId": "c22d4a2b-6bd6-4fc4-b476-6b6918843c89"
      },
      "execution_count": null,
      "outputs": [
        {
          "output_type": "execute_result",
          "data": {
            "text/plain": [
              "tensor([[1.0000, 0.1651, 0.5386],\n",
              "        [0.2702, 0.8798, 0.6988]])"
            ]
          },
          "metadata": {},
          "execution_count": 102
        }
      ]
    },
    {
      "cell_type": "code",
      "source": [
        "id(a)"
      ],
      "metadata": {
        "colab": {
          "base_uri": "https://localhost:8080/"
        },
        "id": "Sc96b9QDAN4L",
        "outputId": "afcabe75-b4aa-4f6b-82e6-19ed27a4ff67"
      },
      "execution_count": null,
      "outputs": [
        {
          "output_type": "execute_result",
          "data": {
            "text/plain": [
              "135184634011120"
            ]
          },
          "metadata": {},
          "execution_count": 103
        }
      ]
    },
    {
      "cell_type": "code",
      "source": [
        "id(b)"
      ],
      "metadata": {
        "colab": {
          "base_uri": "https://localhost:8080/"
        },
        "id": "rUi1wO1EAqRh",
        "outputId": "0e270413-7a53-4876-bf20-461b827d5dcc"
      },
      "execution_count": null,
      "outputs": [
        {
          "output_type": "execute_result",
          "data": {
            "text/plain": [
              "135184634011120"
            ]
          },
          "metadata": {},
          "execution_count": 104
        }
      ]
    },
    {
      "cell_type": "code",
      "source": [
        "#to stop this we use\n",
        "\n",
        "#clone()\n",
        "b=a.clone()"
      ],
      "metadata": {
        "id": "9HakLq6tArvp"
      },
      "execution_count": null,
      "outputs": []
    },
    {
      "cell_type": "code",
      "source": [
        "b"
      ],
      "metadata": {
        "colab": {
          "base_uri": "https://localhost:8080/"
        },
        "id": "kOJ5nV8wAz3S",
        "outputId": "e8337059-b409-4bc9-8819-873909b50aa7"
      },
      "execution_count": null,
      "outputs": [
        {
          "output_type": "execute_result",
          "data": {
            "text/plain": [
              "tensor([[1.0000, 0.1651, 0.5386],\n",
              "        [0.2702, 0.8798, 0.6988]])"
            ]
          },
          "metadata": {},
          "execution_count": 106
        }
      ]
    },
    {
      "cell_type": "code",
      "source": [
        "print(id(a))\n",
        "print(id(b))   #both are at different places"
      ],
      "metadata": {
        "colab": {
          "base_uri": "https://localhost:8080/"
        },
        "id": "Dy7YTjowA0y_",
        "outputId": "ca3bbf50-e5d1-4fe0-9cf4-d4d37285451f"
      },
      "execution_count": null,
      "outputs": [
        {
          "output_type": "stream",
          "name": "stdout",
          "text": [
            "135184634011120\n",
            "135184357733584\n"
          ]
        }
      ]
    },
    {
      "cell_type": "code",
      "source": [
        "torch.cuda.is_available()"
      ],
      "metadata": {
        "colab": {
          "base_uri": "https://localhost:8080/"
        },
        "id": "s5932loTA5NL",
        "outputId": "f902b88c-79c0-41c2-f46a-43d33038a278"
      },
      "execution_count": null,
      "outputs": [
        {
          "output_type": "execute_result",
          "data": {
            "text/plain": [
              "True"
            ]
          },
          "metadata": {},
          "execution_count": 3
        }
      ]
    },
    {
      "cell_type": "code",
      "source": [
        "device=torch.device('cuda')"
      ],
      "metadata": {
        "id": "39QJQnAdBJeh"
      },
      "execution_count": null,
      "outputs": []
    },
    {
      "cell_type": "code",
      "source": [
        "#creating a new tensor in GPU\n",
        "torch.rand(2,3,device=device,dtype=torch.float32)"
      ],
      "metadata": {
        "colab": {
          "base_uri": "https://localhost:8080/"
        },
        "id": "t802Pg8PBU0o",
        "outputId": "ae55594d-1998-444a-ca04-20aa9e921827"
      },
      "execution_count": null,
      "outputs": [
        {
          "output_type": "execute_result",
          "data": {
            "text/plain": [
              "tensor([[0.9490, 0.8399, 0.9268],\n",
              "        [0.4626, 0.3878, 0.0644]], device='cuda:0')"
            ]
          },
          "metadata": {},
          "execution_count": 7
        }
      ]
    },
    {
      "cell_type": "code",
      "source": [
        "#moving an existing tensor to gpu\n",
        "\n",
        "a=torch.rand(2,3,dtype=torch.float32)\n",
        "b=a.to(device)\n",
        "print(a)\n",
        "b"
      ],
      "metadata": {
        "colab": {
          "base_uri": "https://localhost:8080/"
        },
        "id": "zrZ0nI4xB12m",
        "outputId": "f2731150-3cf4-4911-cca7-789571c565e6"
      },
      "execution_count": null,
      "outputs": [
        {
          "output_type": "stream",
          "name": "stdout",
          "text": [
            "tensor([[0.7763, 0.8977, 0.6936],\n",
            "        [0.6232, 0.1170, 0.2224]])\n"
          ]
        },
        {
          "output_type": "execute_result",
          "data": {
            "text/plain": [
              "tensor([[0.7763, 0.8977, 0.6936],\n",
              "        [0.6232, 0.1170, 0.2224]], device='cuda:0')"
            ]
          },
          "metadata": {},
          "execution_count": 9
        }
      ]
    },
    {
      "cell_type": "code",
      "source": [
        "b+5"
      ],
      "metadata": {
        "colab": {
          "base_uri": "https://localhost:8080/"
        },
        "id": "F16WxW8ACHSL",
        "outputId": "aa05eaaf-f41a-45bf-9f33-098cb583de66"
      },
      "execution_count": null,
      "outputs": [
        {
          "output_type": "execute_result",
          "data": {
            "text/plain": [
              "tensor([[5.7763, 5.8977, 5.6936],\n",
              "        [5.6232, 5.1170, 5.2224]], device='cuda:0')"
            ]
          },
          "metadata": {},
          "execution_count": 10
        }
      ]
    },
    {
      "cell_type": "markdown",
      "source": [
        "**Checking time difference between cpu and gpu**"
      ],
      "metadata": {
        "id": "7lrD6sMsCbdA"
      }
    },
    {
      "cell_type": "code",
      "source": [
        "import time\n",
        "\n",
        "#creating two matrices in cpu\n",
        "cpu_matrix_1=torch.randint(size=(1000,1000),low=0,high=1000,dtype=torch.float32)\n",
        "cpu_matrix_2=torch.randint(size=(1000,1000),low=0,high=1000,dtype=torch.float32)\n",
        "start_time=time.time()\n",
        "cpu_res=torch.matmul(cpu_matrix_1,cpu_matrix_2)\n",
        "end_time=time.time()\n",
        "print(f\"Time taken by cpu:{end_time-start_time}\")\n",
        "\n",
        "#creating tensors using gpu\n",
        "gpu_matrix_1=cpu_matrix_1.to('cuda')\n",
        "gpu_matrix_2=cpu_matrix_2.to('cuda')\n",
        "gpu_start_time=time.time()\n",
        "gpu_res=torch.matmul(gpu_matrix_1,gpu_matrix_2)\n",
        "gpu_end_time=time.time()\n",
        "print(f\"Time taken by gpu:{gpu_end_time-gpu_start_time}\")\n",
        "\n",
        "print(f\"Time difference of gpu_time/cpu_time : {((end_time-start_time)/(gpu_end_time-gpu_start_time))}\")"
      ],
      "metadata": {
        "colab": {
          "base_uri": "https://localhost:8080/"
        },
        "id": "GqHJSXOkCUuX",
        "outputId": "58b88d67-4748-4213-d4d1-f2bb130bf83e"
      },
      "execution_count": null,
      "outputs": [
        {
          "output_type": "stream",
          "name": "stdout",
          "text": [
            "Time taken by cpu:0.03828310966491699\n",
            "Time taken by gpu:0.00027370452880859375\n",
            "Time difference of gpu_time/cpu_time : 139.87020905923345\n"
          ]
        }
      ]
    },
    {
      "cell_type": "markdown",
      "source": [
        "**Reshaping Tensors**"
      ],
      "metadata": {
        "id": "G24SJlqQFyZp"
      }
    },
    {
      "cell_type": "code",
      "source": [
        "a=torch.ones(4,4)\n",
        "a"
      ],
      "metadata": {
        "colab": {
          "base_uri": "https://localhost:8080/"
        },
        "id": "iLZluYpMF3Ms",
        "outputId": "9db58c22-09c1-4bc5-f0ba-96ee746f97e3"
      },
      "execution_count": null,
      "outputs": [
        {
          "output_type": "execute_result",
          "data": {
            "text/plain": [
              "tensor([[1., 1., 1., 1.],\n",
              "        [1., 1., 1., 1.],\n",
              "        [1., 1., 1., 1.],\n",
              "        [1., 1., 1., 1.]])"
            ]
          },
          "metadata": {},
          "execution_count": 6
        }
      ]
    },
    {
      "cell_type": "code",
      "source": [
        "#reshape\n",
        "a.reshape(2,2,2,2)"
      ],
      "metadata": {
        "colab": {
          "base_uri": "https://localhost:8080/"
        },
        "id": "rHRsqxkSF8dJ",
        "outputId": "7a2fb0a2-7429-4732-f6d7-833e67de63e6"
      },
      "execution_count": null,
      "outputs": [
        {
          "output_type": "execute_result",
          "data": {
            "text/plain": [
              "tensor([[[[1., 1.],\n",
              "          [1., 1.]],\n",
              "\n",
              "         [[1., 1.],\n",
              "          [1., 1.]]],\n",
              "\n",
              "\n",
              "        [[[1., 1.],\n",
              "          [1., 1.]],\n",
              "\n",
              "         [[1., 1.],\n",
              "          [1., 1.]]]])"
            ]
          },
          "metadata": {},
          "execution_count": 7
        }
      ]
    },
    {
      "cell_type": "code",
      "source": [
        "#flatten\n",
        "a.flatten()"
      ],
      "metadata": {
        "colab": {
          "base_uri": "https://localhost:8080/"
        },
        "id": "btr0grEoGByJ",
        "outputId": "80adc917-163e-4467-d8b8-580a68ee508a"
      },
      "execution_count": null,
      "outputs": [
        {
          "output_type": "execute_result",
          "data": {
            "text/plain": [
              "tensor([1., 1., 1., 1., 1., 1., 1., 1., 1., 1., 1., 1., 1., 1., 1., 1.])"
            ]
          },
          "metadata": {},
          "execution_count": 8
        }
      ]
    },
    {
      "cell_type": "code",
      "source": [
        "torch.flatten(a)"
      ],
      "metadata": {
        "colab": {
          "base_uri": "https://localhost:8080/"
        },
        "id": "qlgsPzD0GN1o",
        "outputId": "f11511e1-0cc6-4b0f-e49d-0a3567d729e3"
      },
      "execution_count": null,
      "outputs": [
        {
          "output_type": "execute_result",
          "data": {
            "text/plain": [
              "tensor([1., 1., 1., 1., 1., 1., 1., 1., 1., 1., 1., 1., 1., 1., 1., 1.])"
            ]
          },
          "metadata": {},
          "execution_count": 9
        }
      ]
    },
    {
      "cell_type": "code",
      "source": [
        "#permute\n",
        "b=torch.randint(size=(2,3,4),low=0,high=10)\n",
        "b"
      ],
      "metadata": {
        "colab": {
          "base_uri": "https://localhost:8080/"
        },
        "id": "6zY89ta6GQ0e",
        "outputId": "933c18e8-a45d-43a1-a02d-846402cbde26"
      },
      "execution_count": null,
      "outputs": [
        {
          "output_type": "execute_result",
          "data": {
            "text/plain": [
              "tensor([[[9, 0, 0, 7],\n",
              "         [7, 2, 5, 6],\n",
              "         [3, 6, 9, 9]],\n",
              "\n",
              "        [[3, 2, 8, 4],\n",
              "         [7, 7, 5, 8],\n",
              "         [2, 1, 8, 9]]])"
            ]
          },
          "metadata": {},
          "execution_count": 10
        }
      ]
    },
    {
      "cell_type": "code",
      "source": [
        "b.permute(1,2,0).shape  ##le,breadth and height is changed"
      ],
      "metadata": {
        "colab": {
          "base_uri": "https://localhost:8080/"
        },
        "id": "CkYSGi2cGdU6",
        "outputId": "0d0afd14-51f2-456b-f949-e7ecbbcca3bf"
      },
      "execution_count": null,
      "outputs": [
        {
          "output_type": "execute_result",
          "data": {
            "text/plain": [
              "torch.Size([3, 4, 2])"
            ]
          },
          "metadata": {},
          "execution_count": 13
        }
      ]
    },
    {
      "cell_type": "code",
      "source": [
        "#unsqueeze,means i am including a layer like that\n",
        "b.unsqueeze(0).shape  #a layer is inserted at 0 place"
      ],
      "metadata": {
        "colab": {
          "base_uri": "https://localhost:8080/"
        },
        "id": "KFQSzLbGGjgI",
        "outputId": "6cc9bb5c-4b53-4263-d291-c9159d9e4a07"
      },
      "execution_count": null,
      "outputs": [
        {
          "output_type": "execute_result",
          "data": {
            "text/plain": [
              "torch.Size([1, 2, 3, 4])"
            ]
          },
          "metadata": {},
          "execution_count": 15
        }
      ]
    },
    {
      "cell_type": "code",
      "source": [
        "#squeeze,means reducing its shape\n",
        "\n",
        "b=torch.rand(1,20)\n",
        "b.shape"
      ],
      "metadata": {
        "colab": {
          "base_uri": "https://localhost:8080/"
        },
        "id": "i_UE5FfaG-0B",
        "outputId": "021b595c-8d11-44c8-8318-ad4c62d113fb"
      },
      "execution_count": null,
      "outputs": [
        {
          "output_type": "execute_result",
          "data": {
            "text/plain": [
              "torch.Size([1, 20])"
            ]
          },
          "metadata": {},
          "execution_count": 19
        }
      ]
    },
    {
      "cell_type": "code",
      "source": [
        "b.squeeze(0).shape"
      ],
      "metadata": {
        "colab": {
          "base_uri": "https://localhost:8080/"
        },
        "id": "aFhyYmfRHWf7",
        "outputId": "6a9fc540-7102-4bbd-90b7-8c7af25651e6"
      },
      "execution_count": null,
      "outputs": [
        {
          "output_type": "execute_result",
          "data": {
            "text/plain": [
              "torch.Size([20])"
            ]
          },
          "metadata": {},
          "execution_count": 20
        }
      ]
    },
    {
      "cell_type": "markdown",
      "source": [
        "**NumPy and PyTorch**"
      ],
      "metadata": {
        "id": "tM62QbdNHuuj"
      }
    },
    {
      "cell_type": "code",
      "source": [
        "import numpy as np\n"
      ],
      "metadata": {
        "id": "6jpW05gOHdBb"
      },
      "execution_count": null,
      "outputs": []
    },
    {
      "cell_type": "code",
      "source": [
        "#tensor to array\n",
        "\n",
        "a=torch.tensor([1,2,3,4,5])\n",
        "print(type(a))\n",
        "b=a.numpy()\n",
        "print(type(b))"
      ],
      "metadata": {
        "colab": {
          "base_uri": "https://localhost:8080/"
        },
        "id": "Bb0vPaFqH5ck",
        "outputId": "a74393d8-b1ed-463c-d603-32e59592d926"
      },
      "execution_count": null,
      "outputs": [
        {
          "output_type": "stream",
          "name": "stdout",
          "text": [
            "<class 'torch.Tensor'>\n",
            "<class 'numpy.ndarray'>\n"
          ]
        }
      ]
    },
    {
      "cell_type": "code",
      "source": [
        "#numpy array to tensor\n",
        "\n",
        "a=np.array([1,23,4,5])\n",
        "b=torch.from_numpy(a)\n",
        "b"
      ],
      "metadata": {
        "colab": {
          "base_uri": "https://localhost:8080/"
        },
        "id": "kCLTY7KTIO-V",
        "outputId": "179489a4-21ac-4ce2-a30d-941504740886"
      },
      "execution_count": null,
      "outputs": [
        {
          "output_type": "execute_result",
          "data": {
            "text/plain": [
              "tensor([ 1, 23,  4,  5])"
            ]
          },
          "metadata": {},
          "execution_count": 27
        }
      ]
    }
  ]
}